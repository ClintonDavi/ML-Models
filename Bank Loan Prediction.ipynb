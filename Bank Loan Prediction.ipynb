{
 "cells": [
  {
   "cell_type": "code",
   "execution_count": 1,
   "id": "f7d1b4c9-7085-4ce1-a8bb-7eea132ab089",
   "metadata": {},
   "outputs": [],
   "source": [
    "import pandas as pd\n",
    "import os\n",
    "import seaborn as sns\n",
    "import matplotlib.pyplot as plt\n",
    "import numpy as np\n",
    "import plotly.graph_objects as go\n",
    "from sklearn.model_selection import train_test_split\n",
    "from sklearn.model_selection import GridSearchCV"
   ]
  },
  {
   "cell_type": "code",
   "execution_count": 2,
   "id": "0938c12d-5d72-4ef1-9fd9-0cb2b48478cb",
   "metadata": {},
   "outputs": [],
   "source": [
    "from sklearn.ensemble import RandomForestClassifier"
   ]
  },
  {
   "cell_type": "code",
   "execution_count": 3,
   "id": "05b0624d-7fd6-40d5-8be7-87876d40d8da",
   "metadata": {},
   "outputs": [],
   "source": [
    "from sklearn.model_selection import cross_val_score"
   ]
  },
  {
   "cell_type": "code",
   "execution_count": 4,
   "id": "73eae0c6-b887-497c-bc4b-1ae73971b640",
   "metadata": {},
   "outputs": [],
   "source": [
    "from sklearn.metrics import precision_score, recall_score, f1_score"
   ]
  },
  {
   "cell_type": "markdown",
   "id": "c57f5067-1ad0-414a-a749-0fd18cd70f5a",
   "metadata": {},
   "source": [
    "**Initial Steps**\n",
    "1. Check data types - seperate numerical from caegorical\n",
    "2. Preprocessing - Impute numerical from `sklearn.impute`, encode categorical from `sklearn.preprocessing`. Classes - SimpleImputer, OrdinalEncoder, OneHotEncoder\n",
    "\n",
    "    When using one hot encoding, remember to set `handle_unknown` parameter to `ignore` to sort out the entries that weren't seen during training and `sparse` to `False` to return the outcome as a numpy array. Also return column names after imputation.\n",
    "3. Set training and test data\n",
    "4. Standardize the data\n",
    "5. Pass the data into model\n",
    "6. Predict and check accuracy\n",
    "7. Fine tune"
   ]
  },
  {
   "cell_type": "code",
   "execution_count": 5,
   "id": "8cbff315-7814-4223-bfd0-ca1d883fdce7",
   "metadata": {},
   "outputs": [],
   "source": [
    "from sklearn.impute import SimpleImputer"
   ]
  },
  {
   "cell_type": "code",
   "execution_count": 6,
   "id": "21a667d4-1027-4732-8d4f-0eec0d075d83",
   "metadata": {},
   "outputs": [],
   "source": [
    "raw_data = pd.read_csv(\".\\\\Loan Prediction\\\\RawData.csv\")\n",
    "# test_data = pd.read_csv(\".\\\\Loan Prediction\\\\TestData.csv\")"
   ]
  },
  {
   "cell_type": "code",
   "execution_count": 7,
   "id": "2c911853-705e-46f2-a048-cf0a491e7359",
   "metadata": {},
   "outputs": [
    {
     "data": {
      "text/html": [
       "<div>\n",
       "<style scoped>\n",
       "    .dataframe tbody tr th:only-of-type {\n",
       "        vertical-align: middle;\n",
       "    }\n",
       "\n",
       "    .dataframe tbody tr th {\n",
       "        vertical-align: top;\n",
       "    }\n",
       "\n",
       "    .dataframe thead th {\n",
       "        text-align: right;\n",
       "    }\n",
       "</style>\n",
       "<table border=\"1\" class=\"dataframe\">\n",
       "  <thead>\n",
       "    <tr style=\"text-align: right;\">\n",
       "      <th></th>\n",
       "      <th>Loan_ID</th>\n",
       "      <th>Gender</th>\n",
       "      <th>Married</th>\n",
       "      <th>Dependents</th>\n",
       "      <th>Education</th>\n",
       "      <th>Self_Employed</th>\n",
       "      <th>ApplicantIncome</th>\n",
       "      <th>CoapplicantIncome</th>\n",
       "      <th>LoanAmount</th>\n",
       "      <th>Loan_Amount_Term</th>\n",
       "      <th>Credit_History</th>\n",
       "      <th>Property_Area</th>\n",
       "      <th>Loan_Status</th>\n",
       "    </tr>\n",
       "  </thead>\n",
       "  <tbody>\n",
       "    <tr>\n",
       "      <th>0</th>\n",
       "      <td>LP001002</td>\n",
       "      <td>Male</td>\n",
       "      <td>No</td>\n",
       "      <td>0</td>\n",
       "      <td>Graduate</td>\n",
       "      <td>No</td>\n",
       "      <td>5849</td>\n",
       "      <td>0.0</td>\n",
       "      <td>NaN</td>\n",
       "      <td>360.0</td>\n",
       "      <td>1.0</td>\n",
       "      <td>Urban</td>\n",
       "      <td>Y</td>\n",
       "    </tr>\n",
       "    <tr>\n",
       "      <th>1</th>\n",
       "      <td>LP001003</td>\n",
       "      <td>Male</td>\n",
       "      <td>Yes</td>\n",
       "      <td>1</td>\n",
       "      <td>Graduate</td>\n",
       "      <td>No</td>\n",
       "      <td>4583</td>\n",
       "      <td>1508.0</td>\n",
       "      <td>128.0</td>\n",
       "      <td>360.0</td>\n",
       "      <td>1.0</td>\n",
       "      <td>Rural</td>\n",
       "      <td>N</td>\n",
       "    </tr>\n",
       "    <tr>\n",
       "      <th>2</th>\n",
       "      <td>LP001005</td>\n",
       "      <td>Male</td>\n",
       "      <td>Yes</td>\n",
       "      <td>0</td>\n",
       "      <td>Graduate</td>\n",
       "      <td>Yes</td>\n",
       "      <td>3000</td>\n",
       "      <td>0.0</td>\n",
       "      <td>66.0</td>\n",
       "      <td>360.0</td>\n",
       "      <td>1.0</td>\n",
       "      <td>Urban</td>\n",
       "      <td>Y</td>\n",
       "    </tr>\n",
       "  </tbody>\n",
       "</table>\n",
       "</div>"
      ],
      "text/plain": [
       "    Loan_ID Gender Married Dependents Education Self_Employed  \\\n",
       "0  LP001002   Male      No          0  Graduate            No   \n",
       "1  LP001003   Male     Yes          1  Graduate            No   \n",
       "2  LP001005   Male     Yes          0  Graduate           Yes   \n",
       "\n",
       "   ApplicantIncome  CoapplicantIncome  LoanAmount  Loan_Amount_Term  \\\n",
       "0             5849                0.0         NaN             360.0   \n",
       "1             4583             1508.0       128.0             360.0   \n",
       "2             3000                0.0        66.0             360.0   \n",
       "\n",
       "   Credit_History Property_Area Loan_Status  \n",
       "0             1.0         Urban           Y  \n",
       "1             1.0         Rural           N  \n",
       "2             1.0         Urban           Y  "
      ]
     },
     "execution_count": 7,
     "metadata": {},
     "output_type": "execute_result"
    }
   ],
   "source": [
    "raw_data.head(3)"
   ]
  },
  {
   "cell_type": "code",
   "execution_count": 8,
   "id": "adb3648e-321f-4e82-9153-be2a63988259",
   "metadata": {
    "scrolled": true
   },
   "outputs": [
    {
     "name": "stdout",
     "output_type": "stream",
     "text": [
      "<class 'pandas.core.frame.DataFrame'>\n",
      "RangeIndex: 614 entries, 0 to 613\n",
      "Data columns (total 13 columns):\n",
      " #   Column             Non-Null Count  Dtype  \n",
      "---  ------             --------------  -----  \n",
      " 0   Loan_ID            614 non-null    object \n",
      " 1   Gender             601 non-null    object \n",
      " 2   Married            611 non-null    object \n",
      " 3   Dependents         599 non-null    object \n",
      " 4   Education          614 non-null    object \n",
      " 5   Self_Employed      582 non-null    object \n",
      " 6   ApplicantIncome    614 non-null    int64  \n",
      " 7   CoapplicantIncome  614 non-null    float64\n",
      " 8   LoanAmount         592 non-null    float64\n",
      " 9   Loan_Amount_Term   600 non-null    float64\n",
      " 10  Credit_History     564 non-null    float64\n",
      " 11  Property_Area      614 non-null    object \n",
      " 12  Loan_Status        614 non-null    object \n",
      "dtypes: float64(4), int64(1), object(8)\n",
      "memory usage: 62.5+ KB\n"
     ]
    }
   ],
   "source": [
    "raw_data.info()"
   ]
  },
  {
   "cell_type": "markdown",
   "id": "bf9cac7d-3f30-47ac-8a05-f10afc5d1f9d",
   "metadata": {},
   "source": [
    "Setting X and y for splitting into train and testing datasets"
   ]
  },
  {
   "cell_type": "code",
   "execution_count": 9,
   "id": "80ba2da5-6b41-4f36-bfcf-66198affaa60",
   "metadata": {},
   "outputs": [],
   "source": [
    "y = raw_data.Loan_Status.copy()\n",
    "raw_data.drop(['Loan_ID', 'Loan_Status'], axis=1, inplace=True)\n",
    "X = raw_data.copy()"
   ]
  },
  {
   "cell_type": "code",
   "execution_count": 13,
   "id": "b0671ff5-fe6f-4a90-83fe-824d27c558b1",
   "metadata": {},
   "outputs": [],
   "source": [
    "X_train, X_test, y_train, y_test = train_test_split (X,y, train_size=0.8, test_size = 0.2, random_state=42) "
   ]
  },
  {
   "cell_type": "code",
   "execution_count": 14,
   "id": "ac1990df-1111-40ed-8973-3a5cefeb04aa",
   "metadata": {},
   "outputs": [],
   "source": [
    "categorical_columns = list(X_train.columns[X_train.dtypes == 'object'])"
   ]
  },
  {
   "cell_type": "code",
   "execution_count": 15,
   "id": "635ea081-6496-4323-b02c-48cfb0c93b1b",
   "metadata": {},
   "outputs": [],
   "source": [
    "numerical_columns = list(X_train.columns[X_train.dtypes == 'int64']) + list(X_train.columns[X_train.dtypes == 'float64']) \n",
    "\n",
    "numerical_cols_missing_vals = [col for col in numerical_columns if X_train[numerical_columns][col].isnull().any()]\n",
    "\n",
    "X_train_numerical_missing_vals = X_train [numerical_cols_missing_vals].copy()"
   ]
  },
  {
   "cell_type": "markdown",
   "id": "1b9824ff-0c90-4685-b486-1dbeafd10197",
   "metadata": {},
   "source": [
    "**Imputing** fields with nulls in the numerical table with median value. Avoiding mean in case there are outliers in the data."
   ]
  },
  {
   "cell_type": "code",
   "execution_count": 16,
   "id": "ece70d44-1876-4030-a4fd-7dcfb00ac92d",
   "metadata": {},
   "outputs": [],
   "source": [
    "imputer = SimpleImputer(strategy = 'median')"
   ]
  },
  {
   "cell_type": "code",
   "execution_count": 17,
   "id": "8ee66d06-7f37-4b9b-bd2b-0ccdfbf3c197",
   "metadata": {},
   "outputs": [],
   "source": [
    "imputed_X_train_numerical_missing_vals_table = imputer.fit_transform(X_train_numerical_missing_vals)\n",
    "\n",
    "numerical_imputed = pd.DataFrame(imputed_X_train_numerical_missing_vals_table)\n",
    "\n",
    "numerical_imputed.columns = X_train_numerical_missing_vals.columns"
   ]
  },
  {
   "cell_type": "markdown",
   "id": "bd4825a9-24f5-4333-b060-ea45222ab6a3",
   "metadata": {},
   "source": [
    "Lets get the **numerical fields with no nulls** and join them with the imputed fields to gt a complete nuemrical table"
   ]
  },
  {
   "cell_type": "code",
   "execution_count": 18,
   "id": "af6ab788-a032-4355-a9fa-7b03c46eafe4",
   "metadata": {},
   "outputs": [],
   "source": [
    "numerical_non_null_cols = list(set(numerical_columns) - set(numerical_cols_missing_vals))\n",
    "\n",
    "numerical_non_null = X_train[numerical_non_null_cols]"
   ]
  },
  {
   "cell_type": "code",
   "execution_count": 19,
   "id": "7e6f7e1d-bfb2-4eee-874d-5b0fb410c30f",
   "metadata": {},
   "outputs": [],
   "source": [
    "numerical_non_null.reset_index(inplace=True, drop=True)\n",
    "\n",
    "numerical_imputed.reset_index(inplace=True, drop=True)"
   ]
  },
  {
   "cell_type": "code",
   "execution_count": 20,
   "id": "f3d4a586-8110-445c-9ddc-bbc607e9d042",
   "metadata": {},
   "outputs": [],
   "source": [
    "numerical_table = pd.concat([numerical_non_null, numerical_imputed], axis=1)"
   ]
  },
  {
   "cell_type": "code",
   "execution_count": 21,
   "id": "dc9e5e71-ced1-4c17-9bde-e372f5e39c4a",
   "metadata": {},
   "outputs": [
    {
     "data": {
      "text/html": [
       "<div>\n",
       "<style scoped>\n",
       "    .dataframe tbody tr th:only-of-type {\n",
       "        vertical-align: middle;\n",
       "    }\n",
       "\n",
       "    .dataframe tbody tr th {\n",
       "        vertical-align: top;\n",
       "    }\n",
       "\n",
       "    .dataframe thead th {\n",
       "        text-align: right;\n",
       "    }\n",
       "</style>\n",
       "<table border=\"1\" class=\"dataframe\">\n",
       "  <thead>\n",
       "    <tr style=\"text-align: right;\">\n",
       "      <th></th>\n",
       "      <th>ApplicantIncome</th>\n",
       "      <th>CoapplicantIncome</th>\n",
       "      <th>LoanAmount</th>\n",
       "      <th>Loan_Amount_Term</th>\n",
       "      <th>Credit_History</th>\n",
       "    </tr>\n",
       "  </thead>\n",
       "  <tbody>\n",
       "    <tr>\n",
       "      <th>0</th>\n",
       "      <td>6000</td>\n",
       "      <td>2250.0</td>\n",
       "      <td>265.0</td>\n",
       "      <td>360.0</td>\n",
       "      <td>1.0</td>\n",
       "    </tr>\n",
       "    <tr>\n",
       "      <th>1</th>\n",
       "      <td>2958</td>\n",
       "      <td>2900.0</td>\n",
       "      <td>131.0</td>\n",
       "      <td>360.0</td>\n",
       "      <td>1.0</td>\n",
       "    </tr>\n",
       "    <tr>\n",
       "      <th>2</th>\n",
       "      <td>6250</td>\n",
       "      <td>1695.0</td>\n",
       "      <td>210.0</td>\n",
       "      <td>360.0</td>\n",
       "      <td>1.0</td>\n",
       "    </tr>\n",
       "    <tr>\n",
       "      <th>3</th>\n",
       "      <td>2083</td>\n",
       "      <td>3150.0</td>\n",
       "      <td>128.0</td>\n",
       "      <td>360.0</td>\n",
       "      <td>1.0</td>\n",
       "    </tr>\n",
       "    <tr>\n",
       "      <th>4</th>\n",
       "      <td>4166</td>\n",
       "      <td>0.0</td>\n",
       "      <td>98.0</td>\n",
       "      <td>360.0</td>\n",
       "      <td>0.0</td>\n",
       "    </tr>\n",
       "    <tr>\n",
       "      <th>...</th>\n",
       "      <td>...</td>\n",
       "      <td>...</td>\n",
       "      <td>...</td>\n",
       "      <td>...</td>\n",
       "      <td>...</td>\n",
       "    </tr>\n",
       "    <tr>\n",
       "      <th>486</th>\n",
       "      <td>1875</td>\n",
       "      <td>1875.0</td>\n",
       "      <td>97.0</td>\n",
       "      <td>360.0</td>\n",
       "      <td>1.0</td>\n",
       "    </tr>\n",
       "    <tr>\n",
       "      <th>487</th>\n",
       "      <td>11417</td>\n",
       "      <td>1126.0</td>\n",
       "      <td>225.0</td>\n",
       "      <td>360.0</td>\n",
       "      <td>1.0</td>\n",
       "    </tr>\n",
       "    <tr>\n",
       "      <th>488</th>\n",
       "      <td>3237</td>\n",
       "      <td>0.0</td>\n",
       "      <td>30.0</td>\n",
       "      <td>360.0</td>\n",
       "      <td>1.0</td>\n",
       "    </tr>\n",
       "    <tr>\n",
       "      <th>489</th>\n",
       "      <td>10047</td>\n",
       "      <td>0.0</td>\n",
       "      <td>129.0</td>\n",
       "      <td>240.0</td>\n",
       "      <td>1.0</td>\n",
       "    </tr>\n",
       "    <tr>\n",
       "      <th>490</th>\n",
       "      <td>13650</td>\n",
       "      <td>0.0</td>\n",
       "      <td>129.0</td>\n",
       "      <td>360.0</td>\n",
       "      <td>1.0</td>\n",
       "    </tr>\n",
       "  </tbody>\n",
       "</table>\n",
       "<p>491 rows × 5 columns</p>\n",
       "</div>"
      ],
      "text/plain": [
       "     ApplicantIncome  CoapplicantIncome  LoanAmount  Loan_Amount_Term  \\\n",
       "0               6000             2250.0       265.0             360.0   \n",
       "1               2958             2900.0       131.0             360.0   \n",
       "2               6250             1695.0       210.0             360.0   \n",
       "3               2083             3150.0       128.0             360.0   \n",
       "4               4166                0.0        98.0             360.0   \n",
       "..               ...                ...         ...               ...   \n",
       "486             1875             1875.0        97.0             360.0   \n",
       "487            11417             1126.0       225.0             360.0   \n",
       "488             3237                0.0        30.0             360.0   \n",
       "489            10047                0.0       129.0             240.0   \n",
       "490            13650                0.0       129.0             360.0   \n",
       "\n",
       "     Credit_History  \n",
       "0               1.0  \n",
       "1               1.0  \n",
       "2               1.0  \n",
       "3               1.0  \n",
       "4               0.0  \n",
       "..              ...  \n",
       "486             1.0  \n",
       "487             1.0  \n",
       "488             1.0  \n",
       "489             1.0  \n",
       "490             1.0  \n",
       "\n",
       "[491 rows x 5 columns]"
      ]
     },
     "execution_count": 21,
     "metadata": {},
     "output_type": "execute_result"
    }
   ],
   "source": [
    "numerical_table"
   ]
  },
  {
   "cell_type": "markdown",
   "id": "5f47df15-8829-41d9-b062-a90720bf0890",
   "metadata": {},
   "source": [
    "For **missing values** in **categorical fields**, we will **impute using most frequent**"
   ]
  },
  {
   "cell_type": "code",
   "execution_count": 22,
   "id": "0f62faac-ad0a-492d-996a-5f6ab4d8be4b",
   "metadata": {},
   "outputs": [],
   "source": [
    "categorical_imputer = SimpleImputer(strategy='most_frequent')"
   ]
  },
  {
   "cell_type": "code",
   "execution_count": 23,
   "id": "0a3ed64b-cf09-4cab-85ed-49d703083c86",
   "metadata": {},
   "outputs": [],
   "source": [
    "categorical_cols_with_missing_vals = [col for col in categorical_columns if X_train[categorical_columns][col].isnull().any()]\n",
    "\n",
    "categorical_data_missing_vals_table = X_train[categorical_cols_with_missing_vals].copy()\n",
    "\n",
    "imputed_X_train_categorical_vals_table = categorical_imputer.fit_transform(categorical_data_missing_vals_table)"
   ]
  },
  {
   "cell_type": "code",
   "execution_count": 24,
   "id": "42a4caac-2716-45f2-8813-a0d7a3ca41f7",
   "metadata": {},
   "outputs": [],
   "source": [
    "categorical_imputed = pd.DataFrame(imputed_X_train_categorical_vals_table)\n",
    "\n",
    "categorical_imputed.columns = categorical_data_missing_vals_table.columns\n",
    "\n",
    "categorical_non_null_cols = list(set(categorical_columns) - set(categorical_cols_with_missing_vals))\n",
    "\n",
    "categorical_non_null = X_train [categorical_non_null_cols]"
   ]
  },
  {
   "cell_type": "code",
   "execution_count": 25,
   "id": "048a9d9b-7561-4499-8c2f-e797a3bdaeb2",
   "metadata": {},
   "outputs": [],
   "source": [
    "categorical_non_null.reset_index(inplace=True, drop=True)\n",
    "categorical_imputed.reset_index(inplace=True, drop=True)"
   ]
  },
  {
   "cell_type": "code",
   "execution_count": 26,
   "id": "8c0fabf5-d7c0-4335-93e3-2d304b66917f",
   "metadata": {},
   "outputs": [],
   "source": [
    "categorical_table = pd.concat([categorical_non_null, categorical_imputed], axis=1)"
   ]
  },
  {
   "cell_type": "code",
   "execution_count": 27,
   "id": "0b754d9b-ac9f-49a2-bb83-94140fba6dc6",
   "metadata": {},
   "outputs": [
    {
     "data": {
      "image/png": "[encoded data removed]",
      "text/plain": [
       "<Figure size 640x480 with 1 Axes>"
      ]
     },
     "metadata": {},
     "output_type": "display_data"
    }
   ],
   "source": [
    "categorical_table.nunique().plot(kind='bar', stacked=True)\n",
    "plt.xlabel('Features')\n",
    "plt.ylabel('Unique Count of Values')\n",
    "plt.title('Unique Count of Values per Feature')\n",
    "plt.show()"
   ]
  },
  {
   "cell_type": "markdown",
   "id": "b63df683-f0b1-4e03-a089-82fa727273a9",
   "metadata": {},
   "source": [
    "The categorical features have few unique values, meaning we can manually code the text into numbers instead of using encoders. \n",
    "This mights still be time consuming given that we will have to do it one column at a time. Lets use encoding libraries"
   ]
  },
  {
   "cell_type": "code",
   "execution_count": 28,
   "id": "6970cb82-c899-4cdd-9192-077206716136",
   "metadata": {},
   "outputs": [],
   "source": [
    "unique_values = pd.unique(categorical_table.values.ravel('K'))\n",
    "colors = plt.cm.tab20(np.linspace(0, 1, len(unique_values)))\n",
    "color_map = dict(zip(unique_values, colors))"
   ]
  },
  {
   "cell_type": "code",
   "execution_count": 29,
   "id": "4e6ccafb-5dbb-449f-b7a7-150c3a6388a7",
   "metadata": {},
   "outputs": [],
   "source": [
    "unique_counts = categorical_table.apply(lambda x: x.value_counts()).fillna(0).astype(int)"
   ]
  },
  {
   "cell_type": "code",
   "execution_count": 30,
   "id": "e8f75547-dd5e-4246-a528-b168a7e6bc28",
   "metadata": {},
   "outputs": [
    {
     "data": {
      "image/png": "[encoded data removed]",
      "text/plain": [
       "<Figure size 640x480 with 1 Axes>"
      ]
     },
     "metadata": {},
     "output_type": "display_data"
    }
   ],
   "source": [
    "fig, ax = plt.subplots()\n",
    "\n",
    "bottom = np.zeros(len(unique_counts.columns))\n",
    "for value in unique_counts.index:\n",
    "    ax.bar(unique_counts.columns, unique_counts.loc[value], bottom=bottom, color=color_map[value], label=value)\n",
    "    bottom += unique_counts.loc[value]\n",
    "\n",
    "plt.xlabel('Features')\n",
    "plt.ylabel('Count of Values')\n",
    "plt.title('A simple visualization of the feature composition')\n",
    "\n",
    "# Moving the legend outside of the plot\n",
    "plt.legend(title='Values', bbox_to_anchor=(1.05, 1), loc='upper left') \n",
    "plt.xticks(rotation=45, ha='right')\n",
    "\n",
    "plt.tight_layout()  # Adjusting layout to make room for rotated labels\n",
    "plt.show()"
   ]
  },
  {
   "cell_type": "code",
   "execution_count": 31,
   "id": "42063e64-5ee6-48f9-9bf3-82535fda5a85",
   "metadata": {},
   "outputs": [],
   "source": [
    "from sklearn.preprocessing import OrdinalEncoder"
   ]
  },
  {
   "cell_type": "code",
   "execution_count": 32,
   "id": "4fc67d5f-8b0f-441f-b456-e912b2d260f3",
   "metadata": {},
   "outputs": [],
   "source": [
    "encoder = OrdinalEncoder()"
   ]
  },
  {
   "cell_type": "code",
   "execution_count": 33,
   "id": "71ebda14-ff3d-4f70-b974-ba357fcf1d10",
   "metadata": {},
   "outputs": [],
   "source": [
    "categorical_tableB= categorical_table.copy()\n",
    "\n",
    "categorical_tableB = encoder.fit_transform(categorical_tableB)\n",
    "\n",
    "categorical_tableB = pd.DataFrame(categorical_tableB)\n",
    "\n",
    "categorical_tableB.columns = categorical_table.columns"
   ]
  },
  {
   "cell_type": "markdown",
   "id": "67b1f882-38f7-4fe0-949d-9d9ecc5034ee",
   "metadata": {},
   "source": [
    "### Dealing With Numerical and Categorical Features In The Test Dataset"
   ]
  },
  {
   "cell_type": "code",
   "execution_count": 34,
   "id": "0ea6e07f-c1b1-4b40-9942-4eeea68bd56e",
   "metadata": {},
   "outputs": [],
   "source": [
    "numerical_columns_X_test = list(X_test.columns[X_test.dtypes == 'int64']) + list(X_test.columns[X_test.dtypes == 'float64']) \n",
    "\n",
    "numerical_cols_missing_vals_X_test = [col for col in numerical_columns_X_test if X_test[numerical_columns_X_test][col].isnull().any()]\n",
    "\n",
    "numerical_missing_vals_X_test = X_test [numerical_cols_missing_vals_X_test].copy()"
   ]
  },
  {
   "cell_type": "code",
   "execution_count": 35,
   "id": "1cd3b15a-d3e7-4e03-90fa-40fc26dc3446",
   "metadata": {},
   "outputs": [
    {
     "data": {
      "text/html": [
       "<div>\n",
       "<style scoped>\n",
       "    .dataframe tbody tr th:only-of-type {\n",
       "        vertical-align: middle;\n",
       "    }\n",
       "\n",
       "    .dataframe tbody tr th {\n",
       "        vertical-align: top;\n",
       "    }\n",
       "\n",
       "    .dataframe thead th {\n",
       "        text-align: right;\n",
       "    }\n",
       "</style>\n",
       "<table border=\"1\" class=\"dataframe\">\n",
       "  <thead>\n",
       "    <tr style=\"text-align: right;\">\n",
       "      <th></th>\n",
       "      <th>LoanAmount</th>\n",
       "      <th>Loan_Amount_Term</th>\n",
       "      <th>Credit_History</th>\n",
       "    </tr>\n",
       "  </thead>\n",
       "  <tbody>\n",
       "    <tr>\n",
       "      <th>350</th>\n",
       "      <td>228.0</td>\n",
       "      <td>360.0</td>\n",
       "      <td>1.0</td>\n",
       "    </tr>\n",
       "    <tr>\n",
       "      <th>377</th>\n",
       "      <td>130.0</td>\n",
       "      <td>360.0</td>\n",
       "      <td>NaN</td>\n",
       "    </tr>\n",
       "    <tr>\n",
       "      <th>163</th>\n",
       "      <td>158.0</td>\n",
       "      <td>360.0</td>\n",
       "      <td>1.0</td>\n",
       "    </tr>\n",
       "    <tr>\n",
       "      <th>609</th>\n",
       "      <td>71.0</td>\n",
       "      <td>360.0</td>\n",
       "      <td>1.0</td>\n",
       "    </tr>\n",
       "    <tr>\n",
       "      <th>132</th>\n",
       "      <td>70.0</td>\n",
       "      <td>360.0</td>\n",
       "      <td>1.0</td>\n",
       "    </tr>\n",
       "    <tr>\n",
       "      <th>...</th>\n",
       "      <td>...</td>\n",
       "      <td>...</td>\n",
       "      <td>...</td>\n",
       "    </tr>\n",
       "    <tr>\n",
       "      <th>231</th>\n",
       "      <td>42.0</td>\n",
       "      <td>180.0</td>\n",
       "      <td>1.0</td>\n",
       "    </tr>\n",
       "    <tr>\n",
       "      <th>312</th>\n",
       "      <td>56.0</td>\n",
       "      <td>360.0</td>\n",
       "      <td>1.0</td>\n",
       "    </tr>\n",
       "    <tr>\n",
       "      <th>248</th>\n",
       "      <td>123.0</td>\n",
       "      <td>480.0</td>\n",
       "      <td>1.0</td>\n",
       "    </tr>\n",
       "    <tr>\n",
       "      <th>11</th>\n",
       "      <td>109.0</td>\n",
       "      <td>360.0</td>\n",
       "      <td>1.0</td>\n",
       "    </tr>\n",
       "    <tr>\n",
       "      <th>333</th>\n",
       "      <td>490.0</td>\n",
       "      <td>180.0</td>\n",
       "      <td>1.0</td>\n",
       "    </tr>\n",
       "  </tbody>\n",
       "</table>\n",
       "<p>123 rows × 3 columns</p>\n",
       "</div>"
      ],
      "text/plain": [
       "     LoanAmount  Loan_Amount_Term  Credit_History\n",
       "350       228.0             360.0             1.0\n",
       "377       130.0             360.0             NaN\n",
       "163       158.0             360.0             1.0\n",
       "609        71.0             360.0             1.0\n",
       "132        70.0             360.0             1.0\n",
       "..          ...               ...             ...\n",
       "231        42.0             180.0             1.0\n",
       "312        56.0             360.0             1.0\n",
       "248       123.0             480.0             1.0\n",
       "11        109.0             360.0             1.0\n",
       "333       490.0             180.0             1.0\n",
       "\n",
       "[123 rows x 3 columns]"
      ]
     },
     "execution_count": 35,
     "metadata": {},
     "output_type": "execute_result"
    }
   ],
   "source": [
    "numerical_missing_vals_X_test"
   ]
  },
  {
   "cell_type": "code",
   "execution_count": 36,
   "id": "a4edd00f-0293-47e1-acce-3818a2ef7b62",
   "metadata": {},
   "outputs": [],
   "source": [
    "imputed_X_test_numerical_missing_vals_table = imputer.transform(numerical_missing_vals_X_test)\n",
    "\n",
    "numerical_imputed_X_test = pd.DataFrame(imputed_X_test_numerical_missing_vals_table)\n",
    "\n",
    "numerical_imputed_X_test.columns = numerical_missing_vals_X_test.columns"
   ]
  },
  {
   "cell_type": "code",
   "execution_count": 37,
   "id": "eefb85e4-7049-49e0-a8db-f0376e357869",
   "metadata": {},
   "outputs": [],
   "source": [
    "numerical_non_null_cols_X_test = list(set(numerical_columns_X_test) - set(numerical_cols_missing_vals_X_test))\n",
    "\n",
    "numerical_non_null_X_test = X_test[numerical_non_null_cols_X_test]"
   ]
  },
  {
   "cell_type": "code",
   "execution_count": 38,
   "id": "c4fe33c3-b707-4ed6-bc9e-b09f0703014e",
   "metadata": {},
   "outputs": [],
   "source": [
    "numerical_non_null_X_test.reset_index(inplace=True, drop=True)\n",
    "numerical_imputed_X_test.reset_index(inplace=True,drop=True)"
   ]
  },
  {
   "cell_type": "code",
   "execution_count": 39,
   "id": "2df781b0-88ec-4fb7-89aa-6a9502f9c9a3",
   "metadata": {},
   "outputs": [],
   "source": [
    "numerical_table_X_test = pd.concat([numerical_non_null_X_test, numerical_imputed_X_test], axis=1)"
   ]
  },
  {
   "cell_type": "code",
   "execution_count": 40,
   "id": "c5595def-3c78-48dc-8239-034d28e1d1b7",
   "metadata": {},
   "outputs": [],
   "source": [
    "categorical_columns_X_test = list(X_test.columns[X_test.dtypes == 'object'])"
   ]
  },
  {
   "cell_type": "code",
   "execution_count": 41,
   "id": "dda9b7e7-824b-484a-b0a7-f0b686fd48e0",
   "metadata": {},
   "outputs": [],
   "source": [
    "categorical_cols_with_missing_vals_X_test = [col for col in categorical_columns if X_test[categorical_columns][col].isnull().any()]\n",
    "\n",
    "categorical_data_missing_vals_table_X_test = X_test[categorical_cols_with_missing_vals_X_test].copy()\n",
    "\n",
    "imputed_X_test_categorical_vals_table = categorical_imputer.transform(categorical_data_missing_vals_table_X_test)"
   ]
  },
  {
   "cell_type": "code",
   "execution_count": 42,
   "id": "dd3c56d5-6fd0-4659-9272-a6763b636e46",
   "metadata": {},
   "outputs": [],
   "source": [
    "categorical_imputed_X_test = pd.DataFrame(imputed_X_test_categorical_vals_table)\n",
    "\n",
    "categorical_imputed_X_test.columns = categorical_data_missing_vals_table_X_test.columns\n",
    "\n",
    "categorical_non_null_cols_X_test = list(set(categorical_columns_X_test) - set(categorical_cols_with_missing_vals_X_test))\n",
    "\n",
    "categorical_non_null_X_test = X_test [categorical_non_null_cols_X_test]"
   ]
  },
  {
   "cell_type": "code",
   "execution_count": 43,
   "id": "8c9f58bc-1818-4b0e-a2e5-28cc46629592",
   "metadata": {},
   "outputs": [],
   "source": [
    "categorical_non_null_X_test.reset_index(inplace=True, drop=True)\n",
    "categorical_imputed_X_test.reset_index(inplace=True,drop=True)"
   ]
  },
  {
   "cell_type": "code",
   "execution_count": 44,
   "id": "36db8cea-5bdf-4d8c-bbe7-3ecc656adef9",
   "metadata": {},
   "outputs": [],
   "source": [
    "categorical_table_X_test = pd.concat([categorical_non_null_X_test, categorical_imputed_X_test], axis=1)"
   ]
  },
  {
   "cell_type": "code",
   "execution_count": 45,
   "id": "ffe85e68-bec1-457d-a979-0417f973ddaa",
   "metadata": {},
   "outputs": [],
   "source": [
    "categorical_tableB_X_test = categorical_table_X_test.copy()\n",
    "\n",
    "categorical_tableB_X_test = encoder.transform(categorical_tableB_X_test)\n",
    "\n",
    "categorical_tableB_X_test = pd.DataFrame(categorical_tableB_X_test)\n",
    "\n",
    "categorical_tableB_X_test.columns = categorical_table_X_test.columns"
   ]
  },
  {
   "cell_type": "markdown",
   "id": "1404bec1-bc91-4b44-b8ef-4ce5209ff713",
   "metadata": {},
   "source": [
    "**Merging the numerical and categorical tables needed for training and testing**"
   ]
  },
  {
   "cell_type": "code",
   "execution_count": 46,
   "id": "cf30f47b-2cf9-495b-b151-aaea469ea610",
   "metadata": {},
   "outputs": [],
   "source": [
    "test_table = pd.concat([numerical_table_X_test, categorical_tableB_X_test], axis=1)"
   ]
  },
  {
   "cell_type": "code",
   "execution_count": 47,
   "id": "8a427fa6-1145-436e-9bbc-7dac6d87f936",
   "metadata": {},
   "outputs": [],
   "source": [
    "X_train_imputed = pd.concat([numerical_table, categorical_tableB], axis=1)"
   ]
  },
  {
   "cell_type": "code",
   "execution_count": 48,
   "id": "327b4d5e-434c-4c1d-8e25-e88023cfac49",
   "metadata": {},
   "outputs": [],
   "source": [
    "y_train_encoded = y_train.apply(lambda x: 1 if x == 'Y' else 0)"
   ]
  },
  {
   "cell_type": "code",
   "execution_count": 49,
   "id": "2939ee09-580c-41fd-8693-8570af992923",
   "metadata": {},
   "outputs": [],
   "source": [
    "y_test_encoded =  y_test.apply(lambda x: 1 if x == 'Y' else 0)"
   ]
  },
  {
   "cell_type": "markdown",
   "id": "206632c7-3c0f-4c35-bf48-fb4513b65a3a",
   "metadata": {},
   "source": [
    "##### Standardizing The Data"
   ]
  },
  {
   "cell_type": "code",
   "execution_count": 50,
   "id": "0b67ca21-18a3-45f3-b47d-59e95d1b19bb",
   "metadata": {},
   "outputs": [],
   "source": [
    "from sklearn.preprocessing import StandardScaler"
   ]
  },
  {
   "cell_type": "code",
   "execution_count": 51,
   "id": "453c395d-b54f-4674-9113-e1ee63700da5",
   "metadata": {},
   "outputs": [],
   "source": [
    "scaler = StandardScaler()"
   ]
  },
  {
   "cell_type": "code",
   "execution_count": 52,
   "id": "cc67c478-4c35-4363-92db-69dd4ee4073b",
   "metadata": {},
   "outputs": [],
   "source": [
    "X_train_imputed_scaled = scaler.fit_transform(X_train_imputed)"
   ]
  },
  {
   "cell_type": "code",
   "execution_count": 53,
   "id": "c73e9bc5-e1cd-4110-9303-f433c491b292",
   "metadata": {},
   "outputs": [],
   "source": [
    "X_test_imputed_scaled = scaler.transform(test_table)"
   ]
  },
  {
   "cell_type": "markdown",
   "id": "34160ba2-a3d4-45cf-a01f-3086a997a755",
   "metadata": {},
   "source": [
    "##### Loading Data Into The Model"
   ]
  },
  {
   "cell_type": "code",
   "execution_count": 54,
   "id": "464cb040-e648-4cff-8f13-aafbd4a476cf",
   "metadata": {},
   "outputs": [],
   "source": [
    "model_rf = RandomForestClassifier()"
   ]
  },
  {
   "cell_type": "code",
   "execution_count": 55,
   "id": "b85aba0a-f87e-4e47-a000-4c395685a8dc",
   "metadata": {},
   "outputs": [],
   "source": [
    "# y_train_encoded"
   ]
  },
  {
   "cell_type": "code",
   "execution_count": 56,
   "id": "2ce8cb63-8d6d-4d07-b82b-ae5f5728aa32",
   "metadata": {},
   "outputs": [],
   "source": [
    "# X_train_imputed.to_excel(\"ImputedX.xlsx\", index=False)"
   ]
  },
  {
   "cell_type": "markdown",
   "id": "7be6a86f-326f-4163-93ec-7fa43d14a1a1",
   "metadata": {},
   "source": [
    "Using GridSearch to find the best parameter values"
   ]
  },
  {
   "cell_type": "code",
   "execution_count": 57,
   "id": "af35fc95-6543-4650-9c1f-c7b36e576133",
   "metadata": {},
   "outputs": [
    {
     "data": {
      "text/plain": [
       "{'max_depth': 4,\n",
       " 'min_samples_leaf': 1,\n",
       " 'min_samples_split': 2,\n",
       " 'n_estimators': 20,\n",
       " 'random_state': 42}"
      ]
     },
     "execution_count": 57,
     "metadata": {},
     "output_type": "execute_result"
    }
   ],
   "source": [
    "param_grid = {\n",
    "    'n_estimators': [10, 20, 35, 50,70, 100], #n_estimators\n",
    "    'max_depth': [None, 3, 4, 5, 6,7],  # List of values for max_depth\n",
    "    'min_samples_leaf': [1,2,3],\n",
    "    'min_samples_split': [2,3],\n",
    "    \n",
    "    'random_state': [42]\n",
    "    \n",
    "}\n",
    "\n",
    "\n",
    "grid_search = GridSearchCV(model_rf, param_grid, cv=5, scoring='accuracy')\n",
    "\n",
    "grid_search.fit(X_train_imputed_scaled, y_train_encoded)\n",
    "\n",
    "best_params = grid_search.best_params_\n",
    "best_rf_classifier = grid_search.best_estimator_\n",
    "\n",
    "best_params"
   ]
  },
  {
   "cell_type": "code",
   "execution_count": 58,
   "id": "0ca3fa0d-512b-4d6d-b824-bf04239b65bc",
   "metadata": {},
   "outputs": [
    {
     "data": {
      "text/html": [
       "<div>\n",
       "<style scoped>\n",
       "    .dataframe tbody tr th:only-of-type {\n",
       "        vertical-align: middle;\n",
       "    }\n",
       "\n",
       "    .dataframe tbody tr th {\n",
       "        vertical-align: top;\n",
       "    }\n",
       "\n",
       "    .dataframe thead th {\n",
       "        text-align: right;\n",
       "    }\n",
       "</style>\n",
       "<table border=\"1\" class=\"dataframe\">\n",
       "  <thead>\n",
       "    <tr style=\"text-align: right;\">\n",
       "      <th></th>\n",
       "      <th>ApplicantIncome</th>\n",
       "      <th>CoapplicantIncome</th>\n",
       "      <th>LoanAmount</th>\n",
       "      <th>Loan_Amount_Term</th>\n",
       "      <th>Credit_History</th>\n",
       "      <th>Education</th>\n",
       "      <th>Property_Area</th>\n",
       "      <th>Gender</th>\n",
       "      <th>Married</th>\n",
       "      <th>Dependents</th>\n",
       "      <th>Self_Employed</th>\n",
       "    </tr>\n",
       "  </thead>\n",
       "  <tbody>\n",
       "    <tr>\n",
       "      <th>0</th>\n",
       "      <td>6000</td>\n",
       "      <td>2250.0</td>\n",
       "      <td>265.0</td>\n",
       "      <td>360.0</td>\n",
       "      <td>1.0</td>\n",
       "      <td>0.0</td>\n",
       "      <td>1.0</td>\n",
       "      <td>1.0</td>\n",
       "      <td>1.0</td>\n",
       "      <td>0.0</td>\n",
       "      <td>0.0</td>\n",
       "    </tr>\n",
       "    <tr>\n",
       "      <th>1</th>\n",
       "      <td>2958</td>\n",
       "      <td>2900.0</td>\n",
       "      <td>131.0</td>\n",
       "      <td>360.0</td>\n",
       "      <td>1.0</td>\n",
       "      <td>0.0</td>\n",
       "      <td>1.0</td>\n",
       "      <td>1.0</td>\n",
       "      <td>1.0</td>\n",
       "      <td>0.0</td>\n",
       "      <td>0.0</td>\n",
       "    </tr>\n",
       "    <tr>\n",
       "      <th>2</th>\n",
       "      <td>6250</td>\n",
       "      <td>1695.0</td>\n",
       "      <td>210.0</td>\n",
       "      <td>360.0</td>\n",
       "      <td>1.0</td>\n",
       "      <td>0.0</td>\n",
       "      <td>1.0</td>\n",
       "      <td>1.0</td>\n",
       "      <td>1.0</td>\n",
       "      <td>2.0</td>\n",
       "      <td>0.0</td>\n",
       "    </tr>\n",
       "    <tr>\n",
       "      <th>3</th>\n",
       "      <td>2083</td>\n",
       "      <td>3150.0</td>\n",
       "      <td>128.0</td>\n",
       "      <td>360.0</td>\n",
       "      <td>1.0</td>\n",
       "      <td>0.0</td>\n",
       "      <td>1.0</td>\n",
       "      <td>1.0</td>\n",
       "      <td>1.0</td>\n",
       "      <td>0.0</td>\n",
       "      <td>0.0</td>\n",
       "    </tr>\n",
       "    <tr>\n",
       "      <th>4</th>\n",
       "      <td>4166</td>\n",
       "      <td>0.0</td>\n",
       "      <td>98.0</td>\n",
       "      <td>360.0</td>\n",
       "      <td>0.0</td>\n",
       "      <td>0.0</td>\n",
       "      <td>1.0</td>\n",
       "      <td>1.0</td>\n",
       "      <td>0.0</td>\n",
       "      <td>0.0</td>\n",
       "      <td>0.0</td>\n",
       "    </tr>\n",
       "    <tr>\n",
       "      <th>...</th>\n",
       "      <td>...</td>\n",
       "      <td>...</td>\n",
       "      <td>...</td>\n",
       "      <td>...</td>\n",
       "      <td>...</td>\n",
       "      <td>...</td>\n",
       "      <td>...</td>\n",
       "      <td>...</td>\n",
       "      <td>...</td>\n",
       "      <td>...</td>\n",
       "      <td>...</td>\n",
       "    </tr>\n",
       "    <tr>\n",
       "      <th>486</th>\n",
       "      <td>1875</td>\n",
       "      <td>1875.0</td>\n",
       "      <td>97.0</td>\n",
       "      <td>360.0</td>\n",
       "      <td>1.0</td>\n",
       "      <td>1.0</td>\n",
       "      <td>1.0</td>\n",
       "      <td>1.0</td>\n",
       "      <td>1.0</td>\n",
       "      <td>2.0</td>\n",
       "      <td>1.0</td>\n",
       "    </tr>\n",
       "    <tr>\n",
       "      <th>487</th>\n",
       "      <td>11417</td>\n",
       "      <td>1126.0</td>\n",
       "      <td>225.0</td>\n",
       "      <td>360.0</td>\n",
       "      <td>1.0</td>\n",
       "      <td>0.0</td>\n",
       "      <td>2.0</td>\n",
       "      <td>1.0</td>\n",
       "      <td>1.0</td>\n",
       "      <td>2.0</td>\n",
       "      <td>0.0</td>\n",
       "    </tr>\n",
       "    <tr>\n",
       "      <th>488</th>\n",
       "      <td>3237</td>\n",
       "      <td>0.0</td>\n",
       "      <td>30.0</td>\n",
       "      <td>360.0</td>\n",
       "      <td>1.0</td>\n",
       "      <td>0.0</td>\n",
       "      <td>2.0</td>\n",
       "      <td>0.0</td>\n",
       "      <td>0.0</td>\n",
       "      <td>0.0</td>\n",
       "      <td>0.0</td>\n",
       "    </tr>\n",
       "    <tr>\n",
       "      <th>489</th>\n",
       "      <td>10047</td>\n",
       "      <td>0.0</td>\n",
       "      <td>129.0</td>\n",
       "      <td>240.0</td>\n",
       "      <td>1.0</td>\n",
       "      <td>0.0</td>\n",
       "      <td>1.0</td>\n",
       "      <td>0.0</td>\n",
       "      <td>1.0</td>\n",
       "      <td>0.0</td>\n",
       "      <td>0.0</td>\n",
       "    </tr>\n",
       "    <tr>\n",
       "      <th>490</th>\n",
       "      <td>13650</td>\n",
       "      <td>0.0</td>\n",
       "      <td>129.0</td>\n",
       "      <td>360.0</td>\n",
       "      <td>1.0</td>\n",
       "      <td>0.0</td>\n",
       "      <td>2.0</td>\n",
       "      <td>1.0</td>\n",
       "      <td>1.0</td>\n",
       "      <td>0.0</td>\n",
       "      <td>0.0</td>\n",
       "    </tr>\n",
       "  </tbody>\n",
       "</table>\n",
       "<p>491 rows × 11 columns</p>\n",
       "</div>"
      ],
      "text/plain": [
       "     ApplicantIncome  CoapplicantIncome  LoanAmount  Loan_Amount_Term  \\\n",
       "0               6000             2250.0       265.0             360.0   \n",
       "1               2958             2900.0       131.0             360.0   \n",
       "2               6250             1695.0       210.0             360.0   \n",
       "3               2083             3150.0       128.0             360.0   \n",
       "4               4166                0.0        98.0             360.0   \n",
       "..               ...                ...         ...               ...   \n",
       "486             1875             1875.0        97.0             360.0   \n",
       "487            11417             1126.0       225.0             360.0   \n",
       "488             3237                0.0        30.0             360.0   \n",
       "489            10047                0.0       129.0             240.0   \n",
       "490            13650                0.0       129.0             360.0   \n",
       "\n",
       "     Credit_History  Education  Property_Area  Gender  Married  Dependents  \\\n",
       "0               1.0        0.0            1.0     1.0      1.0         0.0   \n",
       "1               1.0        0.0            1.0     1.0      1.0         0.0   \n",
       "2               1.0        0.0            1.0     1.0      1.0         2.0   \n",
       "3               1.0        0.0            1.0     1.0      1.0         0.0   \n",
       "4               0.0        0.0            1.0     1.0      0.0         0.0   \n",
       "..              ...        ...            ...     ...      ...         ...   \n",
       "486             1.0        1.0            1.0     1.0      1.0         2.0   \n",
       "487             1.0        0.0            2.0     1.0      1.0         2.0   \n",
       "488             1.0        0.0            2.0     0.0      0.0         0.0   \n",
       "489             1.0        0.0            1.0     0.0      1.0         0.0   \n",
       "490             1.0        0.0            2.0     1.0      1.0         0.0   \n",
       "\n",
       "     Self_Employed  \n",
       "0              0.0  \n",
       "1              0.0  \n",
       "2              0.0  \n",
       "3              0.0  \n",
       "4              0.0  \n",
       "..             ...  \n",
       "486            1.0  \n",
       "487            0.0  \n",
       "488            0.0  \n",
       "489            0.0  \n",
       "490            0.0  \n",
       "\n",
       "[491 rows x 11 columns]"
      ]
     },
     "execution_count": 58,
     "metadata": {},
     "output_type": "execute_result"
    }
   ],
   "source": [
    "X_train_imputed"
   ]
  },
  {
   "cell_type": "code",
   "execution_count": 59,
   "id": "deef4828-c4d8-44ae-bb8c-2c3f0ca9c8cd",
   "metadata": {},
   "outputs": [
    {
     "data": {
      "text/plain": [
       "Loan_Status\n",
       "1    342\n",
       "0    149\n",
       "Name: count, dtype: int64"
      ]
     },
     "execution_count": 59,
     "metadata": {},
     "output_type": "execute_result"
    }
   ],
   "source": [
    "y_train_encoded.value_counts()"
   ]
  },
  {
   "cell_type": "code",
   "execution_count": 60,
   "id": "9eb3711b-3684-4ecc-b3b3-6d5b3a2306ed",
   "metadata": {},
   "outputs": [],
   "source": [
    "model_rf = RandomForestClassifier(n_estimators=10, max_depth=4,  random_state=42)"
   ]
  },
  {
   "cell_type": "code",
   "execution_count": 61,
   "id": "12b9df82-d9da-44df-ae7e-46354acb7601",
   "metadata": {},
   "outputs": [
    {
     "data": {
      "text/html": [
       "<style>#sk-container-id-1 {color: black;background-color: white;}#sk-container-id-1 pre{padding: 0;}#sk-container-id-1 div.sk-toggleable {background-color: white;}#sk-container-id-1 label.sk-toggleable__label {cursor: pointer;display: block;width: 100%;margin-bottom: 0;padding: 0.3em;box-sizing: border-box;text-align: center;}#sk-container-id-1 label.sk-toggleable__label-arrow:before {content: \"▸\";float: left;margin-right: 0.25em;color: #696969;}#sk-container-id-1 label.sk-toggleable__label-arrow:hover:before {color: black;}#sk-container-id-1 div.sk-estimator:hover label.sk-toggleable__label-arrow:before {color: black;}#sk-container-id-1 div.sk-toggleable__content {max-height: 0;max-width: 0;overflow: hidden;text-align: left;background-color: #f0f8ff;}#sk-container-id-1 div.sk-toggleable__content pre {margin: 0.2em;color: black;border-radius: 0.25em;background-color: #f0f8ff;}#sk-container-id-1 input.sk-toggleable__control:checked~div.sk-toggleable__content {max-height: 200px;max-width: 100%;overflow: auto;}#sk-container-id-1 input.sk-toggleable__control:checked~label.sk-toggleable__label-arrow:before {content: \"▾\";}#sk-container-id-1 div.sk-estimator input.sk-toggleable__control:checked~label.sk-toggleable__label {background-color: #d4ebff;}#sk-container-id-1 div.sk-label input.sk-toggleable__control:checked~label.sk-toggleable__label {background-color: #d4ebff;}#sk-container-id-1 input.sk-hidden--visually {border: 0;clip: rect(1px 1px 1px 1px);clip: rect(1px, 1px, 1px, 1px);height: 1px;margin: -1px;overflow: hidden;padding: 0;position: absolute;width: 1px;}#sk-container-id-1 div.sk-estimator {font-family: monospace;background-color: #f0f8ff;border: 1px dotted black;border-radius: 0.25em;box-sizing: border-box;margin-bottom: 0.5em;}#sk-container-id-1 div.sk-estimator:hover {background-color: #d4ebff;}#sk-container-id-1 div.sk-parallel-item::after {content: \"\";width: 100%;border-bottom: 1px solid gray;flex-grow: 1;}#sk-container-id-1 div.sk-label:hover label.sk-toggleable__label {background-color: #d4ebff;}#sk-container-id-1 div.sk-serial::before {content: \"\";position: absolute;border-left: 1px solid gray;box-sizing: border-box;top: 0;bottom: 0;left: 50%;z-index: 0;}#sk-container-id-1 div.sk-serial {display: flex;flex-direction: column;align-items: center;background-color: white;padding-right: 0.2em;padding-left: 0.2em;position: relative;}#sk-container-id-1 div.sk-item {position: relative;z-index: 1;}#sk-container-id-1 div.sk-parallel {display: flex;align-items: stretch;justify-content: center;background-color: white;position: relative;}#sk-container-id-1 div.sk-item::before, #sk-container-id-1 div.sk-parallel-item::before {content: \"\";position: absolute;border-left: 1px solid gray;box-sizing: border-box;top: 0;bottom: 0;left: 50%;z-index: -1;}#sk-container-id-1 div.sk-parallel-item {display: flex;flex-direction: column;z-index: 1;position: relative;background-color: white;}#sk-container-id-1 div.sk-parallel-item:first-child::after {align-self: flex-end;width: 50%;}#sk-container-id-1 div.sk-parallel-item:last-child::after {align-self: flex-start;width: 50%;}#sk-container-id-1 div.sk-parallel-item:only-child::after {width: 0;}#sk-container-id-1 div.sk-dashed-wrapped {border: 1px dashed gray;margin: 0 0.4em 0.5em 0.4em;box-sizing: border-box;padding-bottom: 0.4em;background-color: white;}#sk-container-id-1 div.sk-label label {font-family: monospace;font-weight: bold;display: inline-block;line-height: 1.2em;}#sk-container-id-1 div.sk-label-container {text-align: center;}#sk-container-id-1 div.sk-container {/* jupyter's `normalize.less` sets `[hidden] { display: none; }` but bootstrap.min.css set `[hidden] { display: none !important; }` so we also need the `!important` here to be able to override the default hidden behavior on the sphinx rendered scikit-learn.org. See: https://github.com/scikit-learn/scikit-learn/issues/21755 */display: inline-block !important;position: relative;}#sk-container-id-1 div.sk-text-repr-fallback {display: none;}</style><div id=\"sk-container-id-1\" class=\"sk-top-container\"><div class=\"sk-text-repr-fallback\"><pre>RandomForestClassifier(max_depth=4, n_estimators=10, random_state=42)</pre><b>In a Jupyter environment, please rerun this cell to show the HTML representation or trust the notebook. <br />On GitHub, the HTML representation is unable to render, please try loading this page with nbviewer.org.</b></div><div class=\"sk-container\" hidden><div class=\"sk-item\"><div class=\"sk-estimator sk-toggleable\"><input class=\"sk-toggleable__control sk-hidden--visually\" id=\"sk-estimator-id-1\" type=\"checkbox\" checked><label for=\"sk-estimator-id-1\" class=\"sk-toggleable__label sk-toggleable__label-arrow\">RandomForestClassifier</label><div class=\"sk-toggleable__content\"><pre>RandomForestClassifier(max_depth=4, n_estimators=10, random_state=42)</pre></div></div></div></div></div>"
      ],
      "text/plain": [
       "RandomForestClassifier(max_depth=4, n_estimators=10, random_state=42)"
      ]
     },
     "execution_count": 61,
     "metadata": {},
     "output_type": "execute_result"
    }
   ],
   "source": [
    "model_rf.fit(X_train_imputed_scaled, y_train_encoded)"
   ]
  },
  {
   "cell_type": "code",
   "execution_count": 62,
   "id": "ab6770bd-7ad2-4daa-9be6-1764696e9b39",
   "metadata": {},
   "outputs": [],
   "source": [
    "y_predicted = model_rf.predict(X_test_imputed_scaled)"
   ]
  },
  {
   "cell_type": "code",
   "execution_count": 63,
   "id": "141b2e76-074f-4e97-a21e-e373ca50b735",
   "metadata": {},
   "outputs": [
    {
     "data": {
      "text/plain": [
       "array([[ 0.08391466,  0.18066742,  1.35547238, ...,  0.75744171,\n",
       "        -0.72327513, -0.39751587],\n",
       "       [-0.4293379 ,  0.38543027, -0.19800361, ...,  0.75744171,\n",
       "        -0.72327513, -0.39751587],\n",
       "       [ 0.12609518,  0.00583145,  0.71785164, ...,  0.75744171,\n",
       "         1.26068067, -0.39751587],\n",
       "       ...,\n",
       "       [-0.38226444, -0.52812706, -1.36890716, ..., -1.3202336 ,\n",
       "        -0.72327513, -0.39751587],\n",
       "       [ 0.76673291, -0.52812706, -0.22118982, ...,  0.75744171,\n",
       "        -0.72327513, -0.39751587],\n",
       "       [ 1.37463856, -0.52812706, -0.22118982, ...,  0.75744171,\n",
       "        -0.72327513, -0.39751587]])"
      ]
     },
     "execution_count": 63,
     "metadata": {},
     "output_type": "execute_result"
    }
   ],
   "source": [
    "X_train_imputed_scaled"
   ]
  },
  {
   "cell_type": "code",
   "execution_count": 64,
   "id": "87f12bd6-c893-487e-8e7a-2cd14793de0c",
   "metadata": {},
   "outputs": [],
   "source": [
    "# for i in (X_test_imputed_scaled[:3]):\n",
    "#     if i in X_train_imputed_scaled:\n",
    "#         print('a')"
   ]
  },
  {
   "cell_type": "code",
   "execution_count": 65,
   "id": "630f0c7c-8df6-4c76-af39-220a9fac8b02",
   "metadata": {},
   "outputs": [
    {
     "data": {
      "text/plain": [
       "array([0.10458394, 0.07546535, 0.08058252, 0.06515741, 0.57129642,\n",
       "       0.00248952, 0.04334671, 0.00342154, 0.0130592 , 0.02989477,\n",
       "       0.01070262])"
      ]
     },
     "execution_count": 65,
     "metadata": {},
     "output_type": "execute_result"
    }
   ],
   "source": [
    "model_rf.feature_importances_"
   ]
  },
  {
   "cell_type": "code",
   "execution_count": 66,
   "id": "30ca8b6b-5164-4249-8dca-8a51aff88872",
   "metadata": {},
   "outputs": [
    {
     "data": {
      "image/png": "[encoded data removed]",
      "text/plain": [
       "<Figure size 640x480 with 1 Axes>"
      ]
     },
     "metadata": {},
     "output_type": "display_data"
    }
   ],
   "source": [
    "plt.bar(X_train_imputed.columns, model_rf.feature_importances_)\n",
    "plt.xticks(rotation = 45, ha='right')\n",
    "plt.tight_layout()\n",
    "plt.show()"
   ]
  },
  {
   "cell_type": "code",
   "execution_count": 67,
   "id": "61f9f408-bd3d-4bf5-b0a9-b55b18b67969",
   "metadata": {},
   "outputs": [],
   "source": [
    "scores_rf = cross_val_score(model_rf, X_train_imputed, y_train_encoded, cv=5, scoring='accuracy')"
   ]
  },
  {
   "cell_type": "code",
   "execution_count": 68,
   "id": "fcec22fb-b161-481c-86b0-4da181e94ec0",
   "metadata": {},
   "outputs": [
    {
     "data": {
      "text/plain": [
       "0.8023500309214594"
      ]
     },
     "execution_count": 68,
     "metadata": {},
     "output_type": "execute_result"
    }
   ],
   "source": [
    "scores_rf.mean()"
   ]
  },
  {
   "cell_type": "code",
   "execution_count": 69,
   "id": "416d01e9-03be-4c68-82f6-333c838a4bfd",
   "metadata": {},
   "outputs": [
    {
     "data": {
      "text/plain": [
       "0.8071749940800379"
      ]
     },
     "execution_count": 69,
     "metadata": {},
     "output_type": "execute_result"
    }
   ],
   "source": [
    "precision_score(y_test_encoded, y_predicted, average='weighted')"
   ]
  },
  {
   "cell_type": "code",
   "execution_count": 75,
   "id": "40b4a5cd-2d32-40fa-8500-a78778386a7e",
   "metadata": {},
   "outputs": [],
   "source": [
    "# unique_in_train = X_train_imputed_scaled.shape[0]\n",
    "# unique_in_test = X_test_imputed_scaled.shape[0]\n",
    "# unique_in_train_test = len(np.unique(np.vstack((X_train_imputed_scaled, X_test_imputed_scaled)), axis=0))\n",
    "\n",
    "# print(f\"Unique in train: {unique_in_train}, Unique in test: {unique_in_test}, Combined unique: {unique_in_train_test}\")"
   ]
  },
  {
   "cell_type": "code",
   "execution_count": null,
   "id": "9068a038-393f-4d3e-b7cb-ab0ca98b32b5",
   "metadata": {},
   "outputs": [],
   "source": []
  }
 ],
 "metadata": {
  "kernelspec": {
   "display_name": "Python 3 (ipykernel)",
   "language": "python",
   "name": "python3"
  },
  "language_info": {
   "codemirror_mode": {
    "name": "ipython",
    "version": 3
   },
   "file_extension": ".py",
   "mimetype": "text/x-python",
   "name": "python",
   "nbconvert_exporter": "python",
   "pygments_lexer": "ipython3",
   "version": "3.11.7"
  }
 },
 "nbformat": 4,
 "nbformat_minor": 5
}
